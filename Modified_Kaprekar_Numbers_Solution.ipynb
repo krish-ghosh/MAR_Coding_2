{
 "cells": [
  {
   "cell_type": "code",
   "execution_count": 1,
   "metadata": {},
   "outputs": [
    {
     "name": "stdout",
     "output_type": "stream",
     "text": [
      "1\n",
      "100\n",
      "1 9 45 55 99 "
     ]
    }
   ],
   "source": [
    "low = input()\n",
    "high = input()\n",
    "\n",
    "def is_kaprekar_number(num):\n",
    "    square = str(num*num)  \n",
    "    mid = len(square)//2\n",
    "  \n",
    "    num1 = 0\n",
    "    try: \n",
    "        num1 = int(square[0:mid])\n",
    "    except:\n",
    "        pass\n",
    "  \n",
    "    num2 = 0\n",
    "    try: \n",
    "        num2 = int(square[mid:])\n",
    "    except:\n",
    "        pass\n",
    "  \n",
    "    if num1+num2 == num:\n",
    "        return True\n",
    "  \n",
    "    return False\n",
    "  \n",
    "found = False\n",
    "for i in range(int(low), int(high)+1):\n",
    "    if is_kaprekar_number(i):\n",
    "        found = True\n",
    "        print(i, end=\" \")\n",
    "if found == False:\n",
    "    print(\"INVALID RANGE\")  "
   ]
  }
 ],
 "metadata": {
  "kernelspec": {
   "display_name": "Python 3",
   "language": "python",
   "name": "python3"
  },
  "language_info": {
   "codemirror_mode": {
    "name": "ipython",
    "version": 3
   },
   "file_extension": ".py",
   "mimetype": "text/x-python",
   "name": "python",
   "nbconvert_exporter": "python",
   "pygments_lexer": "ipython3",
   "version": "3.7.6"
  }
 },
 "nbformat": 4,
 "nbformat_minor": 4
}
